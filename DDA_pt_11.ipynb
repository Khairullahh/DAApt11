{
  "nbformat": 4,
  "nbformat_minor": 0,
  "metadata": {
    "colab": {
      "provenance": [],
      "collapsed_sections": []
    },
    "kernelspec": {
      "name": "python3",
      "display_name": "Python 3"
    },
    "language_info": {
      "name": "python"
    }
  },
  "cells": [
    {
      "cell_type": "markdown",
      "source": [
        "Algoritma Graph, undirected graph = tidak ada arahnya, directed graph = ada arahnya"
      ],
      "metadata": {
        "id": "DMlapY325x18"
      }
    },
    {
      "cell_type": "code",
      "execution_count": 1,
      "metadata": {
        "id": "s5dGTk4j232x"
      },
      "outputs": [],
      "source": [
        "# a-----b\n",
        "# |     |\n",
        "# |     |\n",
        "# c-----d-----e"
      ]
    },
    {
      "cell_type": "code",
      "source": [
        "# create the dictionary with graph elements\n",
        "graph = { \"a\" : [\"b\",\"c\"],\n",
        "          \"b\" : [\"a\",\"d\"],\n",
        "          \"c\" : [\"a\",\"d\"],\n",
        "          \"d\" : [\"e\"],\n",
        "          \"e\" : [\"d\"]\n",
        "        }\n",
        "\n",
        "#print the graph\n",
        "print(graph)"
      ],
      "metadata": {
        "colab": {
          "base_uri": "https://localhost:8080/"
        },
        "id": "ap2q8I668fLC",
        "outputId": "de604048-f77a-46d5-f1a1-7ebf745b97bf"
      },
      "execution_count": 3,
      "outputs": [
        {
          "output_type": "stream",
          "name": "stdout",
          "text": [
            "{'a': ['b', 'c'], 'b': ['a', 'd'], 'c': ['a', 'd'], 'd': ['e'], 'e': ['d']}\n"
          ]
        }
      ]
    },
    {
      "cell_type": "markdown",
      "source": [
        "Latihan"
      ],
      "metadata": {
        "id": "PvfXx_H0-KUr"
      }
    },
    {
      "cell_type": "code",
      "source": [
        "#T-----U-----V\n",
        "#|           |\n",
        "#W-----------X\n",
        "#|           |\n",
        "#Z           S"
      ],
      "metadata": {
        "id": "PGFYFOg9-LhO"
      },
      "execution_count": 4,
      "outputs": []
    },
    {
      "cell_type": "code",
      "source": [
        " graph = {\"T\" : [\"U\",\"W\"],\n",
        "          \"U\" : [\"T\",\"V\"],\n",
        "          \"V\" : [\"U\",\"X\"],\n",
        "          \"W\" : [\"T\",\"X\",\"Z\"],\n",
        "          \"X\" : [\"V\",\"W\",\"S\"],\n",
        "          \"Z\" : [\"W\"],\n",
        "          \"S\" : [\"X\"]\n",
        "        }\n",
        "\n",
        " print(graph)        "
      ],
      "metadata": {
        "colab": {
          "base_uri": "https://localhost:8080/"
        },
        "id": "yL6RfMPG-h8U",
        "outputId": "5d5d807d-9567-43ac-88a6-bf18f6b64417"
      },
      "execution_count": 13,
      "outputs": [
        {
          "output_type": "stream",
          "name": "stdout",
          "text": [
            "{'T': ['U', 'W'], 'U': ['T', 'V'], 'V': ['U', 'X'], 'W': ['T', 'X', 'Z'], 'X': ['V', 'W', 'S'], 'Z': ['W'], 'S': ['X']}\n"
          ]
        }
      ]
    },
    {
      "cell_type": "markdown",
      "source": [
        "Latihan"
      ],
      "metadata": {
        "id": "dhczQNKyGNpK"
      }
    },
    {
      "cell_type": "code",
      "source": [
        "#R-----O-----M\n",
        "#|     |     |\n",
        "#L-----P-----N"
      ],
      "metadata": {
        "id": "dKn4mgG1CdV7"
      },
      "execution_count": null,
      "outputs": []
    },
    {
      "cell_type": "code",
      "source": [
        "graph = { \"R\" : [\"O\",\"L\"],\n",
        "          \"O\" : [\"P\",\"R\",\"M\"],\n",
        "          \"M\" : [\"O\",\"N\"],\n",
        "          \"L\" : [\"R\",\"P\"],\n",
        "          \"P\" : [\"O\",\"L\",\"N\"],\n",
        "          \"N\" : [\"P\",\"M\"]   \n",
        "        }\n",
        "\n",
        "print(graph)        "
      ],
      "metadata": {
        "colab": {
          "base_uri": "https://localhost:8080/"
        },
        "id": "h8LlaeElA_ns",
        "outputId": "afbc0040-ed9f-4934-c28e-e36016b7aec5"
      },
      "execution_count": 10,
      "outputs": [
        {
          "output_type": "stream",
          "name": "stdout",
          "text": [
            "{'R': ['O', 'L'], 'O': ['P', 'R', 'M'], 'M': ['O', 'N'], 'L': ['R', 'P'], 'P': ['O', 'L', 'N'], 'N': ['P', 'M']}\n"
          ]
        }
      ]
    },
    {
      "cell_type": "markdown",
      "source": [
        "menampilkan simpul pada graph"
      ],
      "metadata": {
        "id": "FN_WwubqGDfn"
      }
    },
    {
      "cell_type": "code",
      "source": [
        "class graph:\n",
        "    def __init__(self,gdict=None):\n",
        "       if gdict is None:\n",
        "           gdict = []\n",
        "       self.gdict = gdict\n",
        "\n",
        "# get the keys of the dictionary\n",
        "    def getVertices(self):\n",
        "        return list(self.gdict.keys())\n",
        "\n",
        "# create the dictionary with graph elements\n",
        "graph_elements = { \"a\" : [\"b\",\"c\"],\n",
        "                \"b\" : [\"a\",\"d\"],\n",
        "                \"c\" : [\"a\",\"d\"],\n",
        "                \"d\" : [\"e\"],\n",
        "                \"e\" : [\"d\"]\n",
        "                }\n",
        "\n",
        "g = graph(graph_elements)\n",
        "\n",
        "print(g.getVertices())"
      ],
      "metadata": {
        "colab": {
          "base_uri": "https://localhost:8080/"
        },
        "id": "_v3RWG61DyuG",
        "outputId": "1031a0d8-08f0-49e4-d937-835d8e66958f"
      },
      "execution_count": 7,
      "outputs": [
        {
          "output_type": "stream",
          "name": "stdout",
          "text": [
            "['a', 'b', 'c', 'd', 'e']\n"
          ]
        }
      ]
    },
    {
      "cell_type": "markdown",
      "source": [
        "Latihan"
      ],
      "metadata": {
        "id": "LwjPKgdzGKSr"
      }
    },
    {
      "cell_type": "code",
      "source": [
        "class graph:\n",
        "    def __init__(self,gdict=None):\n",
        "       if gdict is None:\n",
        "           gdict = []\n",
        "       self.gdict = gdict\n",
        "\n",
        "# get the keys of the dictionary\n",
        "    def getVertices(self):\n",
        "        return list(self.gdict.keys())\n",
        "\n",
        "# create the dictionary with graph elements\n",
        "graph_elements = { \"T\" : [\"U\",\"W\"],\n",
        "                \"U\" : [\"T\",\"V\"],\n",
        "                \"V\" : [\"U\",\"X\"]\n",
        "                }\n",
        "\n",
        "g = graph(graph_elements)\n",
        "\n",
        "print(g.getVertices())"
      ],
      "metadata": {
        "colab": {
          "base_uri": "https://localhost:8080/"
        },
        "id": "_Vmpeh6qGLqO",
        "outputId": "adf0f13b-7add-401a-edc3-20d185b24b2a"
      },
      "execution_count": 15,
      "outputs": [
        {
          "output_type": "stream",
          "name": "stdout",
          "text": [
            "['T', 'U', 'V']\n"
          ]
        }
      ]
    },
    {
      "cell_type": "markdown",
      "source": [
        "Latihan"
      ],
      "metadata": {
        "id": "saz36CmzHpIy"
      }
    },
    {
      "cell_type": "code",
      "source": [
        "class graph:\n",
        "    def __init__(self,gdict=None):\n",
        "       if gdict is None:\n",
        "           gdict = []\n",
        "       self.gdict = gdict\n",
        "\n",
        "# get the keys of the dictionary\n",
        "    def getVertices(self):\n",
        "        return list(self.gdict.keys())\n",
        "\n",
        "# create the dictionary with graph elements\n",
        "graph_elements = { \"R\" : [\"O\",\"L\"],\n",
        "                \"O\" : [\"P\",\"R\",\"M\"],\n",
        "                \"M\" : [\"O\",\"N\"]\n",
        "                 }\n",
        "\n",
        "g = graph(graph_elements)\n",
        "\n",
        "print(g.getVertices())"
      ],
      "metadata": {
        "colab": {
          "base_uri": "https://localhost:8080/"
        },
        "id": "TUQwRUrTHsN0",
        "outputId": "56266fbb-2526-42e3-f4db-84c6320f4455"
      },
      "execution_count": 16,
      "outputs": [
        {
          "output_type": "stream",
          "name": "stdout",
          "text": [
            "['R', 'O', 'M']\n"
          ]
        }
      ]
    },
    {
      "cell_type": "markdown",
      "source": [
        "menampilkan sudut pada graph"
      ],
      "metadata": {
        "id": "AIkKC2DcJZ3O"
      }
    },
    {
      "cell_type": "code",
      "source": [
        "class graph:\n",
        "   def __init__(self,gdict=None):\n",
        "       if gdict is None:\n",
        "           gdict = {}\n",
        "       self.gdict = gdict\n",
        "\n",
        "   def edges(self):\n",
        "       return self.findedges()\n",
        "\n",
        "# find the distinct list of edges\n",
        "   def findedges(self):\n",
        "        edgename = []\n",
        "        for vrtx in self.gdict:\n",
        "            for nxtvrtx in self.gdict[vrtx]:\n",
        "                if {nxtvrtx, vrtx} not in edgename:\n",
        "                    edgename.append({vrtx, nxtvrtx})\n",
        "        return edgename\n",
        "\n",
        "# create the dictionary with graph elements\n",
        "graph_elements = { \"a\" : [\"b\",\"c\"],\n",
        "                \"b\" : [\"a\",\"d\"],\n",
        "                \"c\" : [\"a\",\"d\"],\n",
        "                \"d\" : [\"e\"],\n",
        "                \"e\" : [\"d\"]\n",
        "                 }\n",
        "\n",
        "g = graph(graph_elements)\n",
        "\n",
        "print(g.edges())"
      ],
      "metadata": {
        "colab": {
          "base_uri": "https://localhost:8080/"
        },
        "id": "jyRWgGmbJeQ4",
        "outputId": "cc89682c-5f8b-4752-b172-89d82558ee09"
      },
      "execution_count": 23,
      "outputs": [
        {
          "output_type": "stream",
          "name": "stdout",
          "text": [
            "[{'b', 'a'}, {'c', 'a'}, {'d', 'b'}, {'c', 'd'}, {'d', 'e'}]\n"
          ]
        }
      ]
    },
    {
      "cell_type": "markdown",
      "source": [
        "menambah vertex/simpul"
      ],
      "metadata": {
        "id": "UIL9UexNM-mK"
      }
    },
    {
      "cell_type": "code",
      "source": [
        "class graph:\n",
        "\n",
        "   def __init__(self,gdict=None):\n",
        "       if gdict is None:\n",
        "           gdict = {}\n",
        "       self.gdict = gdict\n",
        "\n",
        "   def getVertices(self):\n",
        "       return list(self.gdict.keys())\n",
        "\n",
        "# add the vertex as a key\n",
        "   def addVertex(self, vrtx):\n",
        "      if vrtx not in self.gdict:\n",
        "        self.gdict[vrtx] = []\n",
        "       \n",
        "# create the dictionary with graph elements\n",
        "graph_elements = { \"a\" : [\"b\",\"c\"],\n",
        "                \"b\" : [\"a\",\"d\"],\n",
        "                \"c\" : [\"a\",\"d\"],\n",
        "                \"d\" : [\"e\"],\n",
        "                \"e\" : [\"d\"]\n",
        "                 }\n",
        "\n",
        "g = graph(graph_elements)\n",
        "\n",
        "g.addVertex(\"f\")\n",
        "\n",
        "print(g.getVertices())"
      ],
      "metadata": {
        "colab": {
          "base_uri": "https://localhost:8080/"
        },
        "id": "Jw-fzaqKNAzz",
        "outputId": "eb3462b2-237d-438d-c4bf-ec2ceede1e48"
      },
      "execution_count": 24,
      "outputs": [
        {
          "output_type": "stream",
          "name": "stdout",
          "text": [
            "['a', 'b', 'c', 'd', 'e', 'f']\n"
          ]
        }
      ]
    },
    {
      "cell_type": "markdown",
      "source": [
        "menambah edge/sudut"
      ],
      "metadata": {
        "id": "HAOt6YLMOl0G"
      }
    },
    {
      "cell_type": "code",
      "source": [
        "class graph:\n",
        "\n",
        "   def __init__(self,gdict=None):\n",
        "       if gdict is None:\n",
        "           gdict = {}\n",
        "       self.gdict = gdict\n",
        "\n",
        "   def edges(self):\n",
        "       return self.findedges()\n",
        "\n",
        "# add the new edge\n",
        "\n",
        "   def AddEdge(self, edge):\n",
        "       edge = set(edge)\n",
        "       (vrtx1, vrtx2) = tuple(edge)\n",
        "       if vrtx1 in self.gdict:\n",
        "           self.gdict[vrtx1].append(vrtx2)\n",
        "       else:\n",
        "           self.gdict[vrtx1] = [vrtx2]    \n",
        "       \n",
        "# List the edge names\n",
        "   def findedges(self):\n",
        "        edgename = []\n",
        "        for vrtx in self.gdict:\n",
        "            for nxtvrtx in self.gdict[vrtx]:\n",
        "                if {nxtvrtx, vrtx} not in edgename:\n",
        "                    edgename.append({vrtx, nxtvrtx})\n",
        "\n",
        "        return edgename"
      ],
      "metadata": {
        "id": "CGZ-DRGIOlBE"
      },
      "execution_count": 32,
      "outputs": []
    },
    {
      "cell_type": "code",
      "source": [
        "#create the dictionary with graph elements\n",
        "graph_elements = { \"a\" : [\"b\",\"c\"],\n",
        "                \"b\" : [\"a\",\"d\"],\n",
        "                \"c\" : [\"a\",\"d\"],\n",
        "                \"d\" : [\"e\"],\n",
        "                \"e\" : [\"d\"]\n",
        "                 }\n",
        "\n",
        "g = graph(graph_elements)\n",
        "g.AddEdge({'a','e'})\n",
        "g.AddEdge({'a','c'})\n",
        "print(g.edges())                 "
      ],
      "metadata": {
        "colab": {
          "base_uri": "https://localhost:8080/"
        },
        "id": "HRd3MuSBQd57",
        "outputId": "6c199340-e666-4e7f-ca99-426ee5a0cccc"
      },
      "execution_count": 33,
      "outputs": [
        {
          "output_type": "stream",
          "name": "stdout",
          "text": [
            "[{'b', 'a'}, {'c', 'a'}, {'d', 'b'}, {'c', 'd'}, {'d', 'e'}, {'e', 'a'}]\n"
          ]
        }
      ]
    },
    {
      "cell_type": "markdown",
      "source": [
        "Latihan"
      ],
      "metadata": {
        "id": "nXXZ743mSppt"
      }
    },
    {
      "cell_type": "code",
      "source": [
        "class graph:\n",
        "\n",
        "   def __init__(self,gdict=None):\n",
        "       if gdict is None:\n",
        "           gdict = {}\n",
        "       self.gdict = gdict\n",
        "\n",
        "   def edges(self):\n",
        "       return self.findedges()\n",
        "\n",
        "# add the new edge\n",
        "\n",
        "   def AddEdge(self, edge):\n",
        "       edge = set(edge)\n",
        "       (vrtx1, vrtx2) = tuple(edge)\n",
        "       if vrtx1 in self.gdict:\n",
        "           self.gdict[vrtx1].append(vrtx2)\n",
        "       else:\n",
        "           self.gdict[vrtx1] = [vrtx2]    \n",
        "       \n",
        "# List the edge names\n",
        "   def findedges(self):\n",
        "        edgename = []\n",
        "        for vrtx in self.gdict:\n",
        "            for nxtvrtx in self.gdict[vrtx]:\n",
        "                if {nxtvrtx, vrtx} not in edgename:\n",
        "                    edgename.append({vrtx, nxtvrtx})\n",
        "\n",
        "        return edgename"
      ],
      "metadata": {
        "id": "92aS6nVzSrDj"
      },
      "execution_count": 34,
      "outputs": []
    },
    {
      "cell_type": "code",
      "source": [
        "#create the dictionary with graph elements\n",
        "graph_elements = { \"T\" : [\"U\",\"W\"],\n",
        "                \"U\" : [\"T\",\"V\"],\n",
        "                \"V\" : [\"U\",\"X\"]\n",
        "                 }\n",
        "\n",
        "g = graph(graph_elements)\n",
        "g.AddEdge({'T','U'})\n",
        "g.AddEdge({'T','V'})\n",
        "print(g.edges())                 "
      ],
      "metadata": {
        "colab": {
          "base_uri": "https://localhost:8080/"
        },
        "id": "a7eRstoLSvn6",
        "outputId": "86e1f16b-7397-414f-bd84-121b29b713c4"
      },
      "execution_count": 35,
      "outputs": [
        {
          "output_type": "stream",
          "name": "stdout",
          "text": [
            "[{'T', 'U'}, {'W', 'T'}, {'V', 'U'}, {'V', 'X'}, {'V', 'T'}]\n"
          ]
        }
      ]
    },
    {
      "cell_type": "markdown",
      "source": [
        "Latihan"
      ],
      "metadata": {
        "id": "BZJOSkxzTM-k"
      }
    },
    {
      "cell_type": "code",
      "source": [
        "class graph:\n",
        "\n",
        "   def __init__(self,gdict=None):\n",
        "       if gdict is None:\n",
        "           gdict = {}\n",
        "       self.gdict = gdict\n",
        "\n",
        "   def edges(self):\n",
        "       return self.findedges()\n",
        "\n",
        "# add the new edge\n",
        "\n",
        "   def AddEdge(self, edge):\n",
        "       edge = set(edge)\n",
        "       (vrtx1, vrtx2) = tuple(edge)\n",
        "       if vrtx1 in self.gdict:\n",
        "           self.gdict[vrtx1].append(vrtx2)\n",
        "       else:\n",
        "           self.gdict[vrtx1] = [vrtx2]    \n",
        "       \n",
        "# List the edge names\n",
        "   def findedges(self):\n",
        "        edgename = []\n",
        "        for vrtx in self.gdict:\n",
        "            for nxtvrtx in self.gdict[vrtx]:\n",
        "                if {nxtvrtx, vrtx} not in edgename:\n",
        "                    edgename.append({vrtx, nxtvrtx})\n",
        "\n",
        "        return edgename"
      ],
      "metadata": {
        "id": "6mChD-53TOP1"
      },
      "execution_count": 36,
      "outputs": []
    },
    {
      "cell_type": "code",
      "source": [
        "#create the dictionary with graph elements\n",
        "graph_elements = { \"R\" : [\"O\",\"L\"],\n",
        "                \"O\" : [\"P\",\"R\",\"M\"],\n",
        "                \"M\" : [\"O\",\"N\"]\n",
        "                 }\n",
        "\n",
        "g = graph(graph_elements)\n",
        "g.AddEdge({'R','O'})\n",
        "g.AddEdge({'R','M'})\n",
        "print(g.edges())                 "
      ],
      "metadata": {
        "colab": {
          "base_uri": "https://localhost:8080/"
        },
        "id": "3HWKzkCZTWCl",
        "outputId": "a4cbdc34-9889-4083-9ee8-1a4e12d2cb39"
      },
      "execution_count": 37,
      "outputs": [
        {
          "output_type": "stream",
          "name": "stdout",
          "text": [
            "[{'R', 'O'}, {'L', 'R'}, {'R', 'M'}, {'P', 'O'}, {'O', 'M'}, {'N', 'M'}]\n"
          ]
        }
      ]
    }
  ]
}